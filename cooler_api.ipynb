{
 "cells": [
  {
   "cell_type": "markdown",
   "metadata": {
    "toc": "true"
   },
   "source": [
    "# Table of Contents\n",
    " <p><div class=\"lev1\"><a href=\"#Cooler-Python-API\">Cooler Python API</a></div><div class=\"lev2\"><a href=\"#Direct-access-with-h5py\">Direct access with <code>h5py</code></a></div><div class=\"lev2\"><a href=\"#The-Cooler-class\">The <code>Cooler</code> class</a></div><div class=\"lev3\"><a href=\"#The-info-dictionary\">The info dictionary</a></div><div class=\"lev3\"><a href=\"#Table-Views\">Table Views</a></div><div class=\"lev3\"><a href=\"#Enter-The-Matrix\">Enter The Matrix</a></div><div class=\"lev3\"><a href=\"#Balancing-your-selection\">Balancing your selection</a></div><div class=\"lev3\"><a href=\"#Genomic-coordinate-range-selection\">Genomic coordinate range selection</a></div><div class=\"lev2\"><a href=\"#Functional-API\">Functional API</a></div>"
   ]
  },
  {
   "cell_type": "markdown",
   "metadata": {},
   "source": [
    "# Cooler Python API"
   ]
  },
  {
   "cell_type": "markdown",
   "metadata": {},
   "source": [
    "Pre-requisites:\n",
    "\n",
    "- Basic Python knowledge\n",
    "- Some experience with the NumPy array package (or MATLAB)\n",
    "\n",
    "This walkthrough also makes use of:\n",
    "\n",
    "- Jupyter (IPython) Notebook. That's what you're using right now!\n",
    "- Pandas, the dataframe package (similar to R data.frames)\n",
    "- h5py, the package to interact with HDF5 files from Python\n",
    "- matplotlib, the MATLAB-inspired plotting package for Python\n",
    "\n",
    "To navigate this notebook:\n",
    "\n",
    "- Click on a code cell and execute its code by pressing `shift+enter` or clicking the \"play\" button on the toolbar.\n",
    "- While the code cell is running the prompt on the left will look like `In [*]:` and will display the execution count when it is done.\n",
    "- Execution output will be displayed beneath each cell.\n",
    "- To restart the notebook, use the options in the `Kernel` dropdown menu.\n",
    "- You can also run the entire notebook in one go with the `Restart & Run All` option"
   ]
  },
  {
   "cell_type": "code",
   "execution_count": null,
   "metadata": {
    "ExecuteTime": {
     "end_time": "2016-08-24T21:41:47.515213",
     "start_time": "2016-08-24T21:41:46.969943"
    },
    "collapsed": false
   },
   "outputs": [],
   "source": [
    "# Import the packages we will use\n",
    "import matplotlib.pyplot as plt\n",
    "import numpy as np\n",
    "import pandas\n",
    "import h5py\n",
    "\n",
    "import cooler"
   ]
  },
  {
   "cell_type": "code",
   "execution_count": null,
   "metadata": {
    "ExecuteTime": {
     "end_time": "2016-08-24T21:41:47.543375",
     "start_time": "2016-08-24T21:41:47.517293"
    },
    "collapsed": true
   },
   "outputs": [],
   "source": [
    "# The following directive activates inline plotting\n",
    "%matplotlib inline"
   ]
  },
  {
   "cell_type": "code",
   "execution_count": 1,
   "metadata": {
    "ExecuteTime": {
     "end_time": "2016-08-24T21:56:28.183958",
     "start_time": "2016-08-24T21:56:27.764485"
    },
    "collapsed": false
   },
   "outputs": [
    {
     "name": "stdout",
     "output_type": "stream",
     "text": [
      "--2016-08-24 21:56:27--  ftp://cooler.csail.mit.edu/coolers/hg19/Rao2014-GM12878-MboI-allreps-filtered.1000kb.cool\n",
      "           => ‘Rao2014-GM12878-MboI-allreps-filtered.1000kb.cool’\n",
      "Resolving cooler.csail.mit.edu (cooler.csail.mit.edu)... 128.52.129.246\n",
      "Connecting to cooler.csail.mit.edu (cooler.csail.mit.edu)|128.52.129.246|:21... connected.\n",
      "Logging in as anonymous ... Logged in!\n",
      "==> SYST ... done.    ==> PWD ... done.\n",
      "==> TYPE I ... done.  ==> CWD (1) /coolers/hg19 ... done.\n",
      "==> SIZE Rao2014-GM12878-MboI-allreps-filtered.1000kb.cool ... 5460809\n",
      "==> PASV ... done.    ==> RETR Rao2014-GM12878-MboI-allreps-filtered.1000kb.cool ... done.\n",
      "Length: 5460809 (5.2M) (unauthoritative)\n",
      "\n",
      "Rao2014-GM12878-Mbo 100%[===================>]   5.21M  30.9MB/s    in 0.2s    \n",
      "\n",
      "2016-08-24 21:56:28 (30.9 MB/s) - ‘Rao2014-GM12878-MboI-allreps-filtered.1000kb.cool’ saved [5460809]\n",
      "\n"
     ]
    }
   ],
   "source": [
    "# Download a high resoltion COOL file from the interwebs (this will take a few...)\n",
    "# The ! at the beginning of the line tells IPython to run the line in the shell.\n",
    "!wget ftp://cooler.csail.mit.edu/coolers/hg19/Rao2014-GM12878-MboI-allreps-filtered.5kb.cool"
   ]
  },
  {
   "cell_type": "code",
   "execution_count": null,
   "metadata": {
    "ExecuteTime": {
     "end_time": "2016-08-24T21:41:47.682137",
     "start_time": "2016-08-24T21:41:47.617470"
    },
    "collapsed": true
   },
   "outputs": [],
   "source": [
    "filepath = 'Rao2014-GM12878-MboI-allreps-filtered.5kb.cool'"
   ]
  },
  {
   "cell_type": "markdown",
   "metadata": {},
   "source": [
    "## Direct access with `h5py`\n",
    "\n",
    "The `h5py` library (HDF5 for Python) provides an excellent Pythonic interface between HDF5 and native [NumPy](http://www.numpy.org/) arrays and dtypes. It allows you to treat an HDF5 file like a dictionary with complete access to the file's contents as well as the ability to manipulate groups and read or write datasets and attributes. There is additionally a low-level API that wraps the `libhdf5` C functions directly. See the [h5py docs](http://docs.h5py.org/en/latest/index.html)."
   ]
  },
  {
   "cell_type": "code",
   "execution_count": null,
   "metadata": {
    "ExecuteTime": {
     "end_time": "2016-08-24T21:41:47.742101",
     "start_time": "2016-08-24T21:41:47.683952"
    },
    "collapsed": false
   },
   "outputs": [],
   "source": [
    "h5 = h5py.File(filepath, 'r')"
   ]
  },
  {
   "cell_type": "code",
   "execution_count": null,
   "metadata": {
    "ExecuteTime": {
     "end_time": "2016-08-24T21:41:47.838105",
     "start_time": "2016-08-24T21:41:47.743935"
    },
    "collapsed": false
   },
   "outputs": [],
   "source": [
    "h5"
   ]
  },
  {
   "cell_type": "code",
   "execution_count": null,
   "metadata": {
    "ExecuteTime": {
     "end_time": "2016-08-24T21:41:47.892251",
     "start_time": "2016-08-24T21:41:47.839941"
    },
    "collapsed": false
   },
   "outputs": [],
   "source": [
    "h5.keys()"
   ]
  },
  {
   "cell_type": "markdown",
   "metadata": {},
   "source": [
    "Files and Groups are `dict`-like."
   ]
  },
  {
   "cell_type": "code",
   "execution_count": null,
   "metadata": {
    "ExecuteTime": {
     "end_time": "2016-08-24T21:41:47.950864",
     "start_time": "2016-08-24T21:41:47.894071"
    },
    "collapsed": false
   },
   "outputs": [],
   "source": [
    "h5['pixels']"
   ]
  },
  {
   "cell_type": "code",
   "execution_count": null,
   "metadata": {
    "ExecuteTime": {
     "end_time": "2016-08-24T21:41:48.009135",
     "start_time": "2016-08-24T21:41:47.952719"
    },
    "collapsed": false
   },
   "outputs": [],
   "source": [
    "list(h5['pixels'].keys())"
   ]
  },
  {
   "cell_type": "markdown",
   "metadata": {},
   "source": [
    "`h5py` dataset objects are **views** onto the data on disk"
   ]
  },
  {
   "cell_type": "code",
   "execution_count": null,
   "metadata": {
    "ExecuteTime": {
     "end_time": "2016-08-24T21:41:48.067561",
     "start_time": "2016-08-24T21:41:48.010950"
    },
    "collapsed": false
   },
   "outputs": [],
   "source": [
    "h5['pixels']['bin2_id']"
   ]
  },
  {
   "cell_type": "markdown",
   "metadata": {},
   "source": [
    "Slicing or indexing returns a numpy array in memory."
   ]
  },
  {
   "cell_type": "code",
   "execution_count": null,
   "metadata": {
    "ExecuteTime": {
     "end_time": "2016-08-24T21:41:48.147829",
     "start_time": "2016-08-24T21:41:48.069440"
    },
    "collapsed": false
   },
   "outputs": [],
   "source": [
    "h5['pixels']['bin2_id'][:10]"
   ]
  },
  {
   "cell_type": "code",
   "execution_count": null,
   "metadata": {
    "ExecuteTime": {
     "end_time": "2016-08-24T21:41:48.221421",
     "start_time": "2016-08-24T21:41:48.149681"
    },
    "collapsed": false
   },
   "outputs": [],
   "source": [
    "h5['pixels']['count'][:10]"
   ]
  },
  {
   "cell_type": "code",
   "execution_count": null,
   "metadata": {
    "ExecuteTime": {
     "end_time": "2016-08-24T21:41:48.282726",
     "start_time": "2016-08-24T21:41:48.223234"
    },
    "collapsed": true
   },
   "outputs": [],
   "source": [
    "h5.close()"
   ]
  },
  {
   "cell_type": "markdown",
   "metadata": {},
   "source": [
    "The Python `cooler` package is just a thin wrapper over `h5py`.\n",
    "\n",
    "- It lets you access the data tables as [Pandas](http://pandas.pydata.org/) [data frames and series](http://pandas.pydata.org/pandas-docs/stable/10min.html). \n",
    "- It also provides a _matrix abstraction_: letting you query the upper triangle pixel table as if it were a full rectangular [sparse matrix](http://www.scipy-lectures.org/advanced/scipy_sparse/storage_schemes.html) via [SciPy](http://www.scipy-lectures.org/index.html).\n",
    "\n",
    "See below."
   ]
  },
  {
   "cell_type": "markdown",
   "metadata": {},
   "source": [
    "## The `Cooler` class"
   ]
  },
  {
   "cell_type": "markdown",
   "metadata": {},
   "source": [
    "Accepts a file path or an open HDF5 file object.\n",
    "\n",
    "NOTE: Using a filepath allows the `Cooler` object to be serialized/pickled since the file is only opened when needed.\n"
   ]
  },
  {
   "cell_type": "code",
   "execution_count": null,
   "metadata": {
    "ExecuteTime": {
     "end_time": "2016-08-24T21:41:48.358264",
     "start_time": "2016-08-24T21:41:48.284588"
    },
    "collapsed": false
   },
   "outputs": [],
   "source": [
    "c = cooler.Cooler(filepath)"
   ]
  },
  {
   "cell_type": "markdown",
   "metadata": {},
   "source": [
    "### The info dictionary"
   ]
  },
  {
   "cell_type": "code",
   "execution_count": null,
   "metadata": {
    "ExecuteTime": {
     "end_time": "2016-08-24T21:41:48.430687",
     "start_time": "2016-08-24T21:41:48.360137"
    },
    "collapsed": false
   },
   "outputs": [],
   "source": [
    "c.info"
   ]
  },
  {
   "cell_type": "markdown",
   "metadata": {},
   "source": [
    "### Table Views\n",
    "Tables are accessed via methods."
   ]
  },
  {
   "cell_type": "code",
   "execution_count": null,
   "metadata": {
    "ExecuteTime": {
     "end_time": "2016-08-24T21:41:48.491723",
     "start_time": "2016-08-24T21:41:48.432564"
    },
    "collapsed": false
   },
   "outputs": [],
   "source": [
    "c.chroms()"
   ]
  },
  {
   "cell_type": "markdown",
   "metadata": {},
   "source": [
    "The return value is a selector or \"view\" on a table that accepts column and range queries (\"slices\").\n",
    "\n",
    "- Column selections return a new view.\n",
    "- Range selections return pandas [DataFrames or Series](http://pandas.pydata.org/pandas-docs/stable/dsintro.html)."
   ]
  },
  {
   "cell_type": "code",
   "execution_count": null,
   "metadata": {
    "ExecuteTime": {
     "end_time": "2016-08-24T21:41:48.571246",
     "start_time": "2016-08-24T21:41:48.493548"
    },
    "collapsed": false
   },
   "outputs": [],
   "source": [
    "c.chroms()[1:5]"
   ]
  },
  {
   "cell_type": "code",
   "execution_count": null,
   "metadata": {
    "ExecuteTime": {
     "end_time": "2016-08-24T21:41:48.651060",
     "start_time": "2016-08-24T21:41:48.573025"
    },
    "collapsed": false
   },
   "outputs": [],
   "source": [
    "# get the whole table\n",
    "c.chroms()[:]"
   ]
  },
  {
   "cell_type": "markdown",
   "metadata": {},
   "source": [
    "In the bin table, the **weight** column contains the _matrix balancing weights_ computed for each genomic bin."
   ]
  },
  {
   "cell_type": "code",
   "execution_count": null,
   "metadata": {
    "ExecuteTime": {
     "end_time": "2016-08-24T21:41:48.794858",
     "start_time": "2016-08-24T21:41:48.652818"
    },
    "collapsed": false
   },
   "outputs": [],
   "source": [
    "c.bins()[:10]"
   ]
  },
  {
   "cell_type": "markdown",
   "metadata": {},
   "source": [
    "Selecting a list of columns returns a new DataFrame view on that subset of columns"
   ]
  },
  {
   "cell_type": "code",
   "execution_count": null,
   "metadata": {
    "ExecuteTime": {
     "end_time": "2016-08-24T21:41:48.900255",
     "start_time": "2016-08-24T21:41:48.796629"
    },
    "collapsed": false
   },
   "outputs": [],
   "source": [
    "bins = c.bins()[['chrom', 'start', 'end']]\n",
    "bins"
   ]
  },
  {
   "cell_type": "code",
   "execution_count": null,
   "metadata": {
    "ExecuteTime": {
     "end_time": "2016-08-24T21:41:48.999180",
     "start_time": "2016-08-24T21:41:48.901823"
    },
    "collapsed": false
   },
   "outputs": [],
   "source": [
    "bins[:10]"
   ]
  },
  {
   "cell_type": "markdown",
   "metadata": {},
   "source": [
    "Selecting a single column returns a Series view"
   ]
  },
  {
   "cell_type": "code",
   "execution_count": null,
   "metadata": {
    "ExecuteTime": {
     "end_time": "2016-08-24T21:41:49.066946",
     "start_time": "2016-08-24T21:41:49.000887"
    },
    "collapsed": false
   },
   "outputs": [],
   "source": [
    "weights = c.bins()['weight']\n",
    "weights"
   ]
  },
  {
   "cell_type": "code",
   "execution_count": null,
   "metadata": {
    "ExecuteTime": {
     "end_time": "2016-08-24T21:41:49.129890",
     "start_time": "2016-08-24T21:41:49.068800"
    },
    "collapsed": false
   },
   "outputs": [],
   "source": [
    "weights[500:510]"
   ]
  },
  {
   "cell_type": "markdown",
   "metadata": {},
   "source": [
    "The pixel table contains the non-zero upper triangle entries of the contact map."
   ]
  },
  {
   "cell_type": "code",
   "execution_count": null,
   "metadata": {
    "ExecuteTime": {
     "end_time": "2016-08-24T21:41:49.235701",
     "start_time": "2016-08-24T21:41:49.131699"
    },
    "collapsed": false,
    "scrolled": true
   },
   "outputs": [],
   "source": [
    "c.pixels()[:10]"
   ]
  },
  {
   "cell_type": "markdown",
   "metadata": {},
   "source": [
    "Use the `join=True` option if you would like to expand the bin IDs into genomic bin coordinates by joining the output with the bin table."
   ]
  },
  {
   "cell_type": "code",
   "execution_count": null,
   "metadata": {
    "ExecuteTime": {
     "end_time": "2016-08-24T21:41:49.366789",
     "start_time": "2016-08-24T21:41:49.237381"
    },
    "collapsed": false
   },
   "outputs": [],
   "source": [
    "c.pixels(join=True)[:10]"
   ]
  },
  {
   "cell_type": "markdown",
   "metadata": {},
   "source": [
    "Pandas lets you readily dump any table selection to tabular text file."
   ]
  },
  {
   "cell_type": "code",
   "execution_count": null,
   "metadata": {
    "ExecuteTime": {
     "end_time": "2016-08-24T21:41:49.499912",
     "start_time": "2016-08-24T21:41:49.368273"
    },
    "collapsed": false
   },
   "outputs": [],
   "source": [
    "df = c.pixels(join=True)[:100]\n",
    "\n",
    "# tab-delimited file, don't write the index column or header row\n",
    "df.to_csv('myselection.txt', sep='\\t', index=False, header=False)"
   ]
  },
  {
   "cell_type": "code",
   "execution_count": null,
   "metadata": {
    "ExecuteTime": {
     "end_time": "2016-08-24T21:41:49.516337",
     "start_time": "2016-08-24T21:41:49.501055"
    },
    "collapsed": false
   },
   "outputs": [],
   "source": [
    "!head myselection.txt"
   ]
  },
  {
   "cell_type": "markdown",
   "metadata": {},
   "source": [
    "Another way to annotate the bins in a data frame of pixels is to use `cooler.annotate`. It does a [left outer join](http://chris.friedline.net/2015-12-15-rutgers/lessons/python2/04-merging-data.html) from the `bin1_id` and `bin2_id` columns onto a data frame indexed by bin ID that describes the bins."
   ]
  },
  {
   "cell_type": "code",
   "execution_count": null,
   "metadata": {
    "ExecuteTime": {
     "end_time": "2016-08-24T21:41:49.805117",
     "start_time": "2016-08-24T21:41:49.517583"
    },
    "collapsed": false
   },
   "outputs": [],
   "source": [
    "bins = c.bins()[:]  # fetch all the bins\n",
    "\n",
    "pix = c.pixels()[100:110]  # select some pixels with unannotated bins\n",
    "pix"
   ]
  },
  {
   "cell_type": "code",
   "execution_count": null,
   "metadata": {
    "ExecuteTime": {
     "end_time": "2016-08-24T21:41:50.064709",
     "start_time": "2016-08-24T21:41:49.807014"
    },
    "collapsed": false
   },
   "outputs": [],
   "source": [
    "cooler.annotate(pix, bins)"
   ]
  },
  {
   "cell_type": "code",
   "execution_count": null,
   "metadata": {
    "ExecuteTime": {
     "end_time": "2016-08-24T21:41:50.220235",
     "start_time": "2016-08-24T21:41:50.066146"
    },
    "collapsed": false
   },
   "outputs": [],
   "source": [
    "cooler.annotate(pix, bins[['weight']], replace=False)"
   ]
  },
  {
   "cell_type": "markdown",
   "metadata": {},
   "source": [
    "### Enter The Matrix\n",
    "\n",
    "Finally, the `matrix` method provides a 2D-sliceable view on the data. It allows you to query the data on file as a full rectangular contact matrix."
   ]
  },
  {
   "cell_type": "code",
   "execution_count": null,
   "metadata": {
    "ExecuteTime": {
     "end_time": "2016-08-24T21:41:50.223635",
     "start_time": "2016-08-24T21:41:50.221150"
    },
    "collapsed": false
   },
   "outputs": [],
   "source": [
    "c.matrix()"
   ]
  },
  {
   "cell_type": "markdown",
   "metadata": {},
   "source": [
    "The result of a query is a `scipy.sparse.coo_matrix` object."
   ]
  },
  {
   "cell_type": "code",
   "execution_count": null,
   "metadata": {
    "ExecuteTime": {
     "end_time": "2016-08-24T21:41:50.412702",
     "start_time": "2016-08-24T21:41:50.224574"
    },
    "collapsed": false
   },
   "outputs": [],
   "source": [
    "mat = c.matrix()[1000:1200, 1000:1200]\n",
    "mat"
   ]
  },
  {
   "cell_type": "markdown",
   "metadata": {},
   "source": [
    "It is straightforward to convert to a dense 2D numpy array."
   ]
  },
  {
   "cell_type": "code",
   "execution_count": null,
   "metadata": {
    "ExecuteTime": {
     "end_time": "2016-08-24T21:41:50.552630",
     "start_time": "2016-08-24T21:41:50.413792"
    },
    "collapsed": false
   },
   "outputs": [],
   "source": [
    "arr = mat.toarray()\n",
    "arr"
   ]
  },
  {
   "cell_type": "markdown",
   "metadata": {},
   "source": [
    "Notice that the lower triangle has been automatically filled in."
   ]
  },
  {
   "cell_type": "code",
   "execution_count": null,
   "metadata": {
    "ExecuteTime": {
     "end_time": "2016-08-24T21:41:51.130921",
     "start_time": "2016-08-24T21:41:50.554472"
    },
    "collapsed": false
   },
   "outputs": [],
   "source": [
    "fig = plt.figure(figsize=(10, 10))\n",
    "ax = fig.add_subplot(111)\n",
    "im = ax.matshow(np.log10(arr), cmap='YlOrRd')\n",
    "fig.colorbar(im)"
   ]
  },
  {
   "cell_type": "markdown",
   "metadata": {},
   "source": [
    "Notice the light and dark \"banded\" appearance? That's because you are looking at the unnormalized counts."
   ]
  },
  {
   "cell_type": "markdown",
   "metadata": {},
   "source": [
    "### Balancing your selection"
   ]
  },
  {
   "cell_type": "markdown",
   "metadata": {},
   "source": [
    "We usually normalize or \"correct\" Hi-C using a technique called matrix balancing. This involves finding a set of weights or biases $b_i$ for each bin $i$ such that\n",
    "\n",
    "$$ Normalized[i,j] = Observed[i,j] \\cdot b[i] \\cdot b[j], $$\n",
    "\n",
    "such that the marginals (i.e., row/column sums) of the global contact matrix are flat and equal.\n",
    "\n",
    "Cooler can store the pre-computed balancing weights in the bin table. You can manually apply them to balance your selection."
   ]
  },
  {
   "cell_type": "code",
   "execution_count": null,
   "metadata": {
    "ExecuteTime": {
     "end_time": "2016-08-24T21:41:51.257521",
     "start_time": "2016-08-24T21:41:51.133078"
    },
    "collapsed": false
   },
   "outputs": [],
   "source": [
    "# get the balancing weights as a numpy array\n",
    "weights = c.bins()['weight']  # view\n",
    "bias = weights[1000:1200]     # series\n",
    "bias = bias.values            # array\n",
    "\n",
    "# fetch a sparse matrix\n",
    "mat = c.matrix()[1000:1200, 1000:1200]\n",
    "\n",
    "# apply the balancing weights\n",
    "mat.data = bias[mat.row] * bias[mat.col] * mat.data\n",
    "\n",
    "# convert to dense numpy array\n",
    "arr = mat.toarray()"
   ]
  },
  {
   "cell_type": "markdown",
   "metadata": {},
   "source": [
    "As a shortcut, we get the same result by passing `balance=True` to the matrix view constructor."
   ]
  },
  {
   "cell_type": "code",
   "execution_count": null,
   "metadata": {
    "ExecuteTime": {
     "end_time": "2016-08-24T21:41:51.516983",
     "start_time": "2016-08-24T21:41:51.258820"
    },
    "collapsed": false
   },
   "outputs": [],
   "source": [
    "arr2 = c.matrix(balance=True)[1000:1200, 1000:1200].toarray()\n",
    "np.allclose(arr, arr2, equal_nan=True)"
   ]
  },
  {
   "cell_type": "code",
   "execution_count": null,
   "metadata": {
    "ExecuteTime": {
     "end_time": "2016-08-24T21:41:52.006254",
     "start_time": "2016-08-24T21:41:51.518299"
    },
    "collapsed": false
   },
   "outputs": [],
   "source": [
    "fig = plt.figure(figsize=(10, 10))\n",
    "ax = fig.add_subplot(111)\n",
    "im = ax.matshow(np.log10(arr), cmap='YlOrRd')\n",
    "fig.colorbar(im)"
   ]
  },
  {
   "cell_type": "markdown",
   "metadata": {},
   "source": [
    "### Genomic coordinate range selection"
   ]
  },
  {
   "cell_type": "markdown",
   "metadata": {},
   "source": [
    "The bin table, pixel table and matrix views also accept UCSC-style genomic range strings or (chrom, start, end) triples."
   ]
  },
  {
   "cell_type": "code",
   "execution_count": null,
   "metadata": {
    "ExecuteTime": {
     "end_time": "2016-08-24T21:41:52.034705",
     "start_time": "2016-08-24T21:41:52.007115"
    },
    "collapsed": false
   },
   "outputs": [],
   "source": [
    "c.bins().fetch('chr2:10,000,000-20,000,000')"
   ]
  },
  {
   "cell_type": "code",
   "execution_count": null,
   "metadata": {
    "ExecuteTime": {
     "end_time": "2016-08-24T21:41:53.190790",
     "start_time": "2016-08-24T21:41:52.035547"
    },
    "collapsed": false
   },
   "outputs": [],
   "source": [
    "cis = c.matrix().fetch('chr21')\n",
    "cis.shape"
   ]
  },
  {
   "cell_type": "code",
   "execution_count": null,
   "metadata": {
    "ExecuteTime": {
     "end_time": "2016-08-24T21:41:53.679118",
     "start_time": "2016-08-24T21:41:53.191747"
    },
    "collapsed": false
   },
   "outputs": [],
   "source": [
    "trans = c.matrix().fetch('chr21', 'chr22')\n",
    "trans.shape"
   ]
  },
  {
   "cell_type": "markdown",
   "metadata": {},
   "source": [
    "## Functional API\n",
    "\n",
    "Instead of the methods of the `Cooler` class, you can use the similarly named functions in the `cooler` module directly. However, they will only accept an open HDF5 file handle, not a file path string, and they execute their queries eagerly."
   ]
  },
  {
   "cell_type": "markdown",
   "metadata": {},
   "source": [
    "Open the HDF5 file with h5py"
   ]
  },
  {
   "cell_type": "code",
   "execution_count": null,
   "metadata": {
    "ExecuteTime": {
     "end_time": "2016-08-24T21:41:53.682035",
     "start_time": "2016-08-24T21:41:53.679894"
    },
    "collapsed": true
   },
   "outputs": [],
   "source": [
    "h5 = h5py.File(filepath, 'r')"
   ]
  },
  {
   "cell_type": "code",
   "execution_count": null,
   "metadata": {
    "ExecuteTime": {
     "end_time": "2016-08-24T21:41:53.751736",
     "start_time": "2016-08-24T21:41:53.682765"
    },
    "collapsed": false
   },
   "outputs": [],
   "source": [
    "cooler.info(h5)"
   ]
  },
  {
   "cell_type": "code",
   "execution_count": null,
   "metadata": {
    "ExecuteTime": {
     "end_time": "2016-08-24T21:41:53.842820",
     "start_time": "2016-08-24T21:41:53.752768"
    },
    "collapsed": false,
    "scrolled": true
   },
   "outputs": [],
   "source": [
    "cooler.bins(h5, 0, 10)"
   ]
  },
  {
   "cell_type": "markdown",
   "metadata": {},
   "source": [
    "... etc."
   ]
  },
  {
   "cell_type": "markdown",
   "metadata": {},
   "source": [
    "Note that `cooler.get()` is a very generic utility that lets you interpret a HDF5 group containing 1D datasets as a table."
   ]
  },
  {
   "cell_type": "code",
   "execution_count": null,
   "metadata": {
    "ExecuteTime": {
     "end_time": "2016-08-24T21:41:53.908870",
     "start_time": "2016-08-24T21:41:53.844472"
    },
    "collapsed": false
   },
   "outputs": [],
   "source": [
    "print(cooler.get.__doc__)"
   ]
  },
  {
   "cell_type": "code",
   "execution_count": null,
   "metadata": {
    "collapsed": true
   },
   "outputs": [],
   "source": []
  }
 ],
 "metadata": {
  "kernelspec": {
   "display_name": "Python 3",
   "language": "python",
   "name": "python3"
  },
  "language_info": {
   "codemirror_mode": {
    "name": "ipython",
    "version": 3
   },
   "file_extension": ".py",
   "mimetype": "text/x-python",
   "name": "python",
   "nbconvert_exporter": "python",
   "pygments_lexer": "ipython3",
   "version": "3.5.2"
  },
  "toc": {
   "toc_cell": true,
   "toc_number_sections": false,
   "toc_threshold": 6,
   "toc_window_display": false
  }
 },
 "nbformat": 4,
 "nbformat_minor": 0
}
