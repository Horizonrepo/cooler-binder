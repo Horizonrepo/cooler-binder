{
 "cells": [
  {
   "cell_type": "markdown",
   "metadata": {
    "toc": "true"
   },
   "source": [
    "# Table of Contents\n",
    " <p><div class=\"lev1\"><a href=\"#Cooler-command-line-interface\"><span class=\"toc-item-num\">1&nbsp;&nbsp;</span>Cooler command line interface</a></div><div class=\"lev2\"><a href=\"#Example\"><span class=\"toc-item-num\">1.1&nbsp;&nbsp;</span>Example</a></div><div class=\"lev2\"><a href=\"#Aggregate-a-list-of-read-pairs-into-a-cool-file\"><span class=\"toc-item-num\">1.2&nbsp;&nbsp;</span>Aggregate a list of read pairs into a <code>cool</code> file</a></div><div class=\"lev2\"><a href=\"#Balancing\"><span class=\"toc-item-num\">1.3&nbsp;&nbsp;</span>Balancing</a></div><div class=\"lev2\"><a href=\"#Display-the-contact-matrix\"><span class=\"toc-item-num\">1.4&nbsp;&nbsp;</span>Display the contact matrix</a></div>"
   ]
  },
  {
   "cell_type": "markdown",
   "metadata": {},
   "source": [
    "Notes:\n",
    "\n",
    "To simulate shell scripts and terminal interaction, we preface every code cell with the \"cell magic\": `%%bash`, which sends the code to bash instead of the Python interpreter. Another way to send code from IPython to the shell is to prefix a line with shell escape `!`."
   ]
  },
  {
   "cell_type": "code",
   "execution_count": null,
   "metadata": {
    "collapsed": true
   },
   "outputs": [],
   "source": [
    "# before we start, set the system locale\n",
    "import os\n",
    "os.environ['LC_ALL'] = 'C.UTF-8'\n",
    "os.environ['LANG'] = 'C.UTF-8'"
   ]
  },
  {
   "cell_type": "markdown",
   "metadata": {},
   "source": [
    "# Cooler command line interface"
   ]
  },
  {
   "cell_type": "markdown",
   "metadata": {},
   "source": [
    "If you type `cooler` at the command line with no arguments or with `-h` or `--help` you'll get the following quick reference of available subcommands."
   ]
  },
  {
   "cell_type": "code",
   "execution_count": null,
   "metadata": {
    "ExecuteTime": {
     "end_time": "2016-08-25T13:25:23.828338",
     "start_time": "2016-08-25T13:25:22.990588"
    },
    "collapsed": false
   },
   "outputs": [],
   "source": [
    "%%bash\n",
    "\n",
    "cooler -h"
   ]
  },
  {
   "cell_type": "markdown",
   "metadata": {},
   "source": [
    "For more information about a specific subcommand, type `cooler <subcommand> -h` to display the help text."
   ]
  },
  {
   "cell_type": "code",
   "execution_count": null,
   "metadata": {
    "ExecuteTime": {
     "end_time": "2016-08-25T13:25:24.722477",
     "start_time": "2016-08-25T13:25:23.830431"
    },
    "collapsed": false
   },
   "outputs": [],
   "source": [
    "%%bash\n",
    "\n",
    "cooler info -h"
   ]
  },
  {
   "cell_type": "markdown",
   "metadata": {},
   "source": [
    "## Example"
   ]
  },
  {
   "cell_type": "markdown",
   "metadata": {},
   "source": [
    "Let's try it."
   ]
  },
  {
   "cell_type": "code",
   "execution_count": null,
   "metadata": {
    "ExecuteTime": {
     "end_time": "2016-08-25T13:25:25.529541",
     "start_time": "2016-08-25T13:25:24.724722"
    },
    "collapsed": false
   },
   "outputs": [],
   "source": [
    "%%bash\n",
    "\n",
    "cooler info data/Rao2014-GM12878-MboI-allreps-filtered.1000kb.cool"
   ]
  },
  {
   "cell_type": "code",
   "execution_count": null,
   "metadata": {
    "ExecuteTime": {
     "end_time": "2016-08-25T13:25:26.351575",
     "start_time": "2016-08-25T13:25:25.531575"
    },
    "collapsed": false
   },
   "outputs": [],
   "source": [
    "%%bash\n",
    "\n",
    "cooler info -f bin-size data/Rao2014-GM12878-MboI-allreps-filtered.1000kb.cool"
   ]
  },
  {
   "cell_type": "code",
   "execution_count": null,
   "metadata": {
    "ExecuteTime": {
     "end_time": "2016-08-25T13:25:27.179107",
     "start_time": "2016-08-25T13:25:26.353191"
    },
    "collapsed": false
   },
   "outputs": [],
   "source": [
    "%%bash\n",
    "\n",
    "cooler info -m data/Rao2014-GM12878-MboI-allreps-filtered.1000kb.cool"
   ]
  },
  {
   "cell_type": "markdown",
   "metadata": {
    "ExecuteTime": {
     "end_time": "2016-08-24T22:00:32.279108",
     "start_time": "2016-08-24T22:00:32.276211"
    }
   },
   "source": [
    "## Aggregate a list of read pairs into a `cool` file"
   ]
  },
  {
   "cell_type": "markdown",
   "metadata": {},
   "source": [
    "To make a contact matrix, we need\n",
    "\n",
    "1. A list of read pairs representing captured contacts.\n",
    "2. A segmentation of the genome into bins by which we aggregate (bin) the read pair counts.\n",
    "\n",
    "For(1), we will start with a very small subsample of 100,000 read pairs from GSM1551552 (Rao et al, GM12878). The fields of the file are readID, strand1, chrom1, pos1, frag1, strand2, chrom2, pos2, frag2, mapq1, mapq2."
   ]
  },
  {
   "cell_type": "code",
   "execution_count": null,
   "metadata": {
    "ExecuteTime": {
     "end_time": "2016-08-25T13:25:27.210193",
     "start_time": "2016-08-25T13:25:27.181234"
    },
    "collapsed": false
   },
   "outputs": [],
   "source": [
    "%%bash\n",
    "\n",
    "zcat data/GSM1551552_HIC003_merged_nodups.txt.subset.gz | head"
   ]
  },
  {
   "cell_type": "markdown",
   "metadata": {},
   "source": [
    "This data was mapped to the Broad's `b37` assembly and uses ENSEMBL-style chromosome names (`1..22`, `X`, `Y`, `MT`) instead of the UCSC-style (`chr1..chr22`, `chrX`, `chrY`, `chrM`).\n",
    "\n",
    "Since we will be storing half of the contact matrix, we would like the chromosomes to appear in a \"natural\" order before we. So we provide a chromosome sizes file with the chromosomes we want to use in the desired order. Make sure the names match the names in the pairs file! The following is the `b37` chromosome sizes file with the unplaced scaffolds left out."
   ]
  },
  {
   "cell_type": "code",
   "execution_count": null,
   "metadata": {
    "ExecuteTime": {
     "end_time": "2016-08-25T13:25:27.296644",
     "start_time": "2016-08-25T13:25:27.212018"
    },
    "collapsed": false
   },
   "outputs": [],
   "source": [
    "%%bash\n",
    "\n",
    "cat data/b37-chromsizes.select.txt"
   ]
  },
  {
   "cell_type": "markdown",
   "metadata": {},
   "source": [
    "We also need to decide how we want to bin the contacts. Usually, we choose a fixed bin size or \"resolution\". Another option for Hi-C data is to use restriction fragment-delimited genomic bins based on the restriction enzyme used in the experiment. `cooler` allows for any binning scheme you like, as long as you provide it as a **bin table**. We can store a bin table in a simple BED file using the `makebins` command."
   ]
  },
  {
   "cell_type": "code",
   "execution_count": null,
   "metadata": {
    "ExecuteTime": {
     "end_time": "2016-08-25T13:25:28.165582",
     "start_time": "2016-08-25T13:25:27.298429"
    },
    "collapsed": false
   },
   "outputs": [],
   "source": [
    "%%bash\n",
    "\n",
    "cooler makebins -h"
   ]
  },
  {
   "cell_type": "markdown",
   "metadata": {},
   "source": [
    "If you have the FASTA sequence of the reference genome, you can also \"digest\" it to create a bin table of fragments."
   ]
  },
  {
   "cell_type": "code",
   "execution_count": null,
   "metadata": {
    "ExecuteTime": {
     "end_time": "2016-08-25T13:25:29.000944",
     "start_time": "2016-08-25T13:25:28.167509"
    },
    "collapsed": false
   },
   "outputs": [],
   "source": [
    "%%bash\n",
    "\n",
    "cooler digest -h"
   ]
  },
  {
   "cell_type": "code",
   "execution_count": null,
   "metadata": {
    "ExecuteTime": {
     "end_time": "2016-08-25T13:25:29.714214",
     "start_time": "2016-08-25T13:25:29.003021"
    },
    "collapsed": false
   },
   "outputs": [],
   "source": [
    "%%bash\n",
    "\n",
    "CHROMSIZES_FILE='data/b37-chromsizes.select.txt'\n",
    "\n",
    "cooler makebins --out bins.1000kb.bed $CHROMSIZES_FILE 1000000\n",
    "\n",
    "# what's in the file?\n",
    "head bins.1000kb.bed"
   ]
  },
  {
   "cell_type": "markdown",
   "metadata": {},
   "source": [
    "Next, we need to make sure our pairs file is properly oriented, sorted and indexed. We use the `cooler csort` command to do this. What does it do?\n",
    "\n",
    "1. _Oriented_: given the ordering of the chromosomes, each read pair should lie in the upper triangle of the contact map.\n",
    "2. _Sorted_: once oriented, the reads are lexically sorted by chrom1, pos1, chrom2, pos2.\n",
    "3. _Indexed_: we use bgzip to compress the file and [Tabix](http://www.htslib.org/doc/tabix.html) to index it. This creates a small `.tbi` index file which provides random access to any range of contacts along the \"row\" axis of the contact map. This not only simplifies the process of binning but is useful of other kinds of read-level analyses.\n",
    "\n",
    "For now, we only extract the chrom1, pos1, chrom2, pos2, strand1, strand2 fields from the pairs file. You can specify which column each of these fields lies in the source contacts file."
   ]
  },
  {
   "cell_type": "code",
   "execution_count": null,
   "metadata": {
    "ExecuteTime": {
     "end_time": "2016-08-25T13:25:30.513566",
     "start_time": "2016-08-25T13:25:29.716254"
    },
    "collapsed": false
   },
   "outputs": [],
   "source": [
    "!cooler csort -h"
   ]
  },
  {
   "cell_type": "code",
   "execution_count": null,
   "metadata": {
    "ExecuteTime": {
     "end_time": "2016-08-25T13:25:32.184692",
     "start_time": "2016-08-25T13:25:30.515826"
    },
    "collapsed": false
   },
   "outputs": [],
   "source": [
    "%%bash\n",
    "\n",
    "CHROMSIZES_FILE='data/b37-chromsizes.select.txt'\n",
    "PAIRS_FILE='data/GSM1551552_HIC003_merged_nodups.txt.subset.gz'\n",
    "\n",
    "cooler csort -c1 3 -p1 4 -c2 7 -p2 8 -s1 2 -s2 6 --out pairs.sorted.txt.gz $CHROMSIZES_FILE $PAIRS_FILE"
   ]
  },
  {
   "cell_type": "code",
   "execution_count": null,
   "metadata": {
    "ExecuteTime": {
     "end_time": "2016-08-25T13:25:32.199093",
     "start_time": "2016-08-25T13:25:32.186714"
    },
    "collapsed": false
   },
   "outputs": [],
   "source": [
    "%%bash\n",
    "\n",
    "# What's in the output?\n",
    "zcat pairs.sorted.txt.gz | head"
   ]
  },
  {
   "cell_type": "markdown",
   "metadata": {},
   "source": [
    "Finally, using `cooler cload`, we aggregate (bin) the contacts in `pairs.sorted.txt.gz` against the bins file, `bins.1000kb.bed`, and write the contents to the binary `test.cool` file."
   ]
  },
  {
   "cell_type": "code",
   "execution_count": null,
   "metadata": {
    "ExecuteTime": {
     "end_time": "2016-08-25T13:25:39.740018",
     "start_time": "2016-08-25T13:25:32.200898"
    },
    "collapsed": false
   },
   "outputs": [],
   "source": [
    "%%bash\n",
    "\n",
    "BINS_FILE='bins.1000kb.bed'\n",
    "INDEXED_PAIRS_FILE='pairs.sorted.txt.gz'\n",
    "OUTPUT_FILE='test.cool'\n",
    "\n",
    "cooler cload $BINS_FILE $INDEXED_PAIRS_FILE $OUTPUT_FILE"
   ]
  },
  {
   "cell_type": "markdown",
   "metadata": {},
   "source": [
    "The `cooler dump` command lets us print the data back out as text with several formatting and annotation options. It also accepts range queries, both intra- and inter-chromosomal."
   ]
  },
  {
   "cell_type": "code",
   "execution_count": null,
   "metadata": {
    "ExecuteTime": {
     "end_time": "2016-08-25T13:25:40.614211",
     "start_time": "2016-08-25T13:25:39.742157"
    },
    "collapsed": false
   },
   "outputs": [],
   "source": [
    "%%bash\n",
    "\n",
    "cooler dump -h"
   ]
  },
  {
   "cell_type": "code",
   "execution_count": null,
   "metadata": {
    "ExecuteTime": {
     "end_time": "2016-08-25T13:25:41.395819",
     "start_time": "2016-08-25T13:25:40.615556"
    },
    "collapsed": false
   },
   "outputs": [],
   "source": [
    "%%bash\n",
    "\n",
    "cooler dump -t chroms test.cool"
   ]
  },
  {
   "cell_type": "code",
   "execution_count": null,
   "metadata": {
    "ExecuteTime": {
     "end_time": "2016-08-25T13:25:42.195813",
     "start_time": "2016-08-25T13:25:41.398091"
    },
    "collapsed": false
   },
   "outputs": [],
   "source": [
    "%%bash\n",
    "\n",
    "cooler dump -t bins test.cool | head"
   ]
  },
  {
   "cell_type": "code",
   "execution_count": null,
   "metadata": {
    "ExecuteTime": {
     "end_time": "2016-08-25T13:25:42.920180",
     "start_time": "2016-08-25T13:25:42.197802"
    },
    "collapsed": false
   },
   "outputs": [],
   "source": [
    "%%bash\n",
    "\n",
    "cooler dump -t pixels --header test.cool | head"
   ]
  },
  {
   "cell_type": "code",
   "execution_count": null,
   "metadata": {
    "ExecuteTime": {
     "end_time": "2016-08-25T13:25:43.604277",
     "start_time": "2016-08-25T13:25:42.921224"
    },
    "collapsed": false
   },
   "outputs": [],
   "source": [
    "%%bash\n",
    "\n",
    "cooler dump -t pixels --header --join test.cool | head"
   ]
  },
  {
   "cell_type": "code",
   "execution_count": null,
   "metadata": {
    "ExecuteTime": {
     "end_time": "2016-08-25T13:25:44.318069",
     "start_time": "2016-08-25T13:25:43.605411"
    },
    "collapsed": false
   },
   "outputs": [],
   "source": [
    "%%bash\n",
    "\n",
    "cooler dump -t pixels -r 10:10,000,000-20,000,000 -r2 10:30,000,000-80,000,000 --header --join test.cool | head"
   ]
  },
  {
   "cell_type": "code",
   "execution_count": null,
   "metadata": {
    "ExecuteTime": {
     "end_time": "2016-08-25T13:25:45.172959",
     "start_time": "2016-08-25T13:25:44.320004"
    },
    "collapsed": false
   },
   "outputs": [],
   "source": [
    "%%bash\n",
    "\n",
    "cooler dump -t pixels --header --balanced test.cool | head"
   ]
  },
  {
   "cell_type": "markdown",
   "metadata": {},
   "source": [
    "Oops! Our contact matrix isn't balanced yet. Let's do that next."
   ]
  },
  {
   "cell_type": "markdown",
   "metadata": {},
   "source": [
    "## Balancing"
   ]
  },
  {
   "cell_type": "markdown",
   "metadata": {},
   "source": [
    "Matrix balancing normalization, i.e. iterative correction.\n",
    "\n",
    "We usually normalize or \"correct\" Hi-C using a technique called matrix balancing. This involves finding a set of weights or biases $b_i$ for each bin $i$ such that\n",
    "\n",
    "$$ Normalized[i,j] = Observed[i,j] \\cdot b[i] \\cdot b[j], $$\n",
    "\n",
    "such that the marginals (i.e., row/column sums) of the global contact matrix are flat and equal.\n",
    "\n",
    "`cooler balance` will store the pre-computed balancing weights in the bin table as an extra column called `weight`.\n",
    "\n",
    "Note that whole-genome matrix balancing on a high resolution matrix requires iterative computations on a matrix that may not fit in computer memory, even in sparse form. Our \"out-of-core\" method performs the calculations by splitting and loading the data into smaller chunks and combining the partial results afterwards."
   ]
  },
  {
   "cell_type": "code",
   "execution_count": null,
   "metadata": {
    "ExecuteTime": {
     "end_time": "2016-08-25T13:25:45.934142",
     "start_time": "2016-08-25T13:25:45.174704"
    },
    "collapsed": false
   },
   "outputs": [],
   "source": [
    "%%bash\n",
    "\n",
    "cooler balance -h"
   ]
  },
  {
   "cell_type": "markdown",
   "metadata": {},
   "source": [
    "`cooler balance` iterates until the balanced marginals (i.e. row sums of the balanced matrix) are sufficiently flat (the variance falls below the limit `tol`)."
   ]
  },
  {
   "cell_type": "code",
   "execution_count": null,
   "metadata": {
    "ExecuteTime": {
     "end_time": "2016-08-25T13:25:47.210515",
     "start_time": "2016-08-25T13:25:45.936340"
    },
    "collapsed": false
   },
   "outputs": [],
   "source": [
    "%%bash\n",
    "\n",
    "cooler balance -p 10 -c 10000 test.cool"
   ]
  },
  {
   "cell_type": "code",
   "execution_count": null,
   "metadata": {
    "ExecuteTime": {
     "end_time": "2016-08-25T13:25:47.948288",
     "start_time": "2016-08-25T13:25:47.212791"
    },
    "collapsed": false
   },
   "outputs": [],
   "source": [
    "%%bash\n",
    "\n",
    "cooler dump --header --balanced test.cool | head"
   ]
  },
  {
   "cell_type": "markdown",
   "metadata": {},
   "source": [
    "## Display the contact matrix"
   ]
  },
  {
   "cell_type": "markdown",
   "metadata": {},
   "source": [
    "You can also use the `cooler show` function to produce images of the contact matrix. Requires the `matplotlib` Python package."
   ]
  },
  {
   "cell_type": "code",
   "execution_count": null,
   "metadata": {
    "ExecuteTime": {
     "end_time": "2016-08-25T13:25:48.671974",
     "start_time": "2016-08-25T13:25:47.949509"
    },
    "collapsed": false
   },
   "outputs": [],
   "source": [
    "%%bash\n",
    "\n",
    "cooler show -h"
   ]
  },
  {
   "cell_type": "markdown",
   "metadata": {},
   "source": [
    "Here's the undersampled dataset."
   ]
  },
  {
   "cell_type": "code",
   "execution_count": null,
   "metadata": {
    "ExecuteTime": {
     "end_time": "2016-08-25T13:25:50.664584",
     "start_time": "2016-08-25T13:25:48.674030"
    },
    "collapsed": false
   },
   "outputs": [],
   "source": [
    "%%bash\n",
    "\n",
    "cooler show -b --out test.png --dpi 200 test.cool 3:0-80,000,000"
   ]
  },
  {
   "cell_type": "code",
   "execution_count": null,
   "metadata": {
    "ExecuteTime": {
     "end_time": "2016-08-25T13:25:50.682581",
     "start_time": "2016-08-25T13:25:50.666940"
    },
    "collapsed": false
   },
   "outputs": [],
   "source": [
    "from IPython.display import Image\n",
    "Image('test.png')"
   ]
  },
  {
   "cell_type": "markdown",
   "metadata": {},
   "source": [
    "Here's what the full one looks like."
   ]
  },
  {
   "cell_type": "code",
   "execution_count": null,
   "metadata": {
    "ExecuteTime": {
     "end_time": "2016-08-25T13:26:01.703390",
     "start_time": "2016-08-25T13:25:59.804561"
    },
    "collapsed": false
   },
   "outputs": [],
   "source": [
    "%%bash\n",
    "\n",
    "cooler show -b --out test2.png --dpi 200 data/Rao2014-GM12878-MboI-allreps-filtered.1000kb.cool chr3:0-80,000,000"
   ]
  },
  {
   "cell_type": "code",
   "execution_count": null,
   "metadata": {
    "ExecuteTime": {
     "end_time": "2016-08-25T13:26:02.233685",
     "start_time": "2016-08-25T13:26:02.223060"
    },
    "collapsed": false
   },
   "outputs": [],
   "source": [
    "from IPython.display import Image\n",
    "Image('test2.png')"
   ]
  },
  {
   "cell_type": "code",
   "execution_count": null,
   "metadata": {
    "collapsed": true
   },
   "outputs": [],
   "source": []
  }
 ],
 "metadata": {
  "kernelspec": {
   "display_name": "Python 3",
   "language": "python",
   "name": "python3"
  },
  "language_info": {
   "codemirror_mode": {
    "name": "ipython",
    "version": 3
   },
   "file_extension": ".py",
   "mimetype": "text/x-python",
   "name": "python",
   "nbconvert_exporter": "python",
   "pygments_lexer": "ipython3",
   "version": "3.5.2"
  },
  "toc": {
   "toc_cell": true,
   "toc_number_sections": true,
   "toc_threshold": 6,
   "toc_window_display": false
  }
 },
 "nbformat": 4,
 "nbformat_minor": 0
}
